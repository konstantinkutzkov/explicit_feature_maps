{
 "cells": [
  {
   "cell_type": "code",
   "execution_count": 8,
   "id": "f0a0427a",
   "metadata": {},
   "outputs": [],
   "source": [
    "import matplotlib.pyplot as plt\n",
    "import numpy as np\n",
    "from sklearn import svm, datasets\n",
    "from sklearn.kernel_approximation import RBFSampler, PolynomialCountSketch\n",
    "from sklearn.metrics import accuracy_score as acc"
   ]
  },
  {
   "cell_type": "code",
   "execution_count": 1,
   "id": "0fa70241",
   "metadata": {},
   "outputs": [],
   "source": [
    "def get_train_test_split(X, y, idx):\n",
    "    return X[idx,:], y[idx], X[-idx, :], y[-idx]"
   ]
  },
  {
   "cell_type": "code",
   "execution_count": 9,
   "id": "29afa235",
   "metadata": {},
   "outputs": [
    {
     "name": "stderr",
     "output_type": "stream",
     "text": [
      "/home/koki/.local/lib/python3.8/site-packages/sklearn/svm/_base.py:985: ConvergenceWarning: Liblinear failed to converge, increase the number of iterations.\n",
      "  warnings.warn(\"Liblinear failed to converge, increase \"\n",
      "/home/koki/.local/lib/python3.8/site-packages/sklearn/svm/_base.py:985: ConvergenceWarning: Liblinear failed to converge, increase the number of iterations.\n",
      "  warnings.warn(\"Liblinear failed to converge, increase \"\n",
      "/home/koki/.local/lib/python3.8/site-packages/sklearn/svm/_base.py:985: ConvergenceWarning: Liblinear failed to converge, increase the number of iterations.\n",
      "  warnings.warn(\"Liblinear failed to converge, increase \"\n",
      "/home/koki/.local/lib/python3.8/site-packages/sklearn/svm/_base.py:985: ConvergenceWarning: Liblinear failed to converge, increase the number of iterations.\n",
      "  warnings.warn(\"Liblinear failed to converge, increase \"\n",
      "/home/koki/.local/lib/python3.8/site-packages/sklearn/svm/_base.py:985: ConvergenceWarning: Liblinear failed to converge, increase the number of iterations.\n",
      "  warnings.warn(\"Liblinear failed to converge, increase \"\n",
      "/home/koki/.local/lib/python3.8/site-packages/sklearn/svm/_base.py:985: ConvergenceWarning: Liblinear failed to converge, increase the number of iterations.\n",
      "  warnings.warn(\"Liblinear failed to converge, increase \"\n",
      "/home/koki/.local/lib/python3.8/site-packages/sklearn/svm/_base.py:985: ConvergenceWarning: Liblinear failed to converge, increase the number of iterations.\n",
      "  warnings.warn(\"Liblinear failed to converge, increase \"\n",
      "/home/koki/.local/lib/python3.8/site-packages/sklearn/svm/_base.py:985: ConvergenceWarning: Liblinear failed to converge, increase the number of iterations.\n",
      "  warnings.warn(\"Liblinear failed to converge, increase \"\n",
      "/home/koki/.local/lib/python3.8/site-packages/sklearn/svm/_base.py:985: ConvergenceWarning: Liblinear failed to converge, increase the number of iterations.\n",
      "  warnings.warn(\"Liblinear failed to converge, increase \"\n",
      "/home/koki/.local/lib/python3.8/site-packages/sklearn/svm/_base.py:985: ConvergenceWarning: Liblinear failed to converge, increase the number of iterations.\n",
      "  warnings.warn(\"Liblinear failed to converge, increase \"\n"
     ]
    },
    {
     "name": "stdout",
     "output_type": "stream",
     "text": [
      "Linear SVM: 0.985\n",
      "RBF SVM: 0.817\n",
      "Polynomial SVM: 0.998\n",
      "Explicit RBF: 0.818\n",
      "Explicit Polynomial: 0.997\n"
     ]
    }
   ],
   "source": [
    "digits = datasets.load_digits()\n",
    "\n",
    "X = digits.data\n",
    "y = digits.target\n",
    "\n",
    "C = 1.0  # SVM regularization parameter\n",
    "\n",
    "# the standard models are defined below\n",
    "models = (svm.LinearSVC(C=C, max_iter=10000, dual = True),\n",
    "          svm.SVC(kernel='rbf', gamma=0.7, C=C),\n",
    "          svm.SVC(kernel='poly', degree=3, gamma=1.0, C=C)\n",
    "          )\n",
    "\n",
    "nr_comp = 1000\n",
    "rbf_feature = RBFSampler(gamma=0.7, random_state=1, n_components=nr_comp)\n",
    "poly_ts = PolynomialCountSketch(degree=3, gamma=1.0, random_state=1, n_components=nr_comp)\n",
    "\n",
    "nr = 10\n",
    "accs = [0 for _ in range(len(models)+2)]\n",
    "for _ in range(nr):\n",
    "    \n",
    "    train_index = np.random.choice(X.shape[0], int(0.8*X.shape[0]), replace=False)\n",
    "\n",
    "    X_train, y_train, X_test, y_test = get_train_test_split(X, y, train_index)\n",
    "    X_train_rbf, X_test_rbf = rbf_feature.fit_transform(X_train), rbf_feature.fit_transform(X_test)\n",
    "    X_train_poly, X_test_poly = poly_ts.fit_transform(X_train), poly_ts.fit_transform(X_test)\n",
    "\n",
    "    models = [clf.fit(X_train, y_train) for clf in models] \n",
    "    \n",
    "    # Linear SVM models using explicit feature maps\n",
    "    model_rbf = svm.LinearSVC(C=C, max_iter=10000, dual = False).fit(X_train_rbf, y_train)\n",
    "    model_ts = svm.LinearSVC(C=C, max_iter=10000, dual = False).fit(X_train_poly, y_train)\n",
    "\n",
    "    for i, m in enumerate(models):\n",
    "        y_pred = m.predict(X_test)\n",
    "        accs[i] += acc(y_test, y_pred)\n",
    "\n",
    "    y_pred_rbf = model_rbf.predict(X_test_rbf)\n",
    "    accs[3] += acc(y_test, y_pred_rbf)\n",
    "\n",
    "    y_pred_poly = model_ts.predict(X_test_poly)\n",
    "    accs[4] += acc(y_test, y_pred_poly)\n",
    "names = [\"Linear SVM\", \"RBF SVM\", \"Polynomial SVM\", \"Explicit RBF\", \"Explicit Polynomial\"]  \n",
    "for n, a in zip(names, accs):\n",
    "    print(n + \": \" + str(np.round(a/nr, 3)))"
   ]
  },
  {
   "cell_type": "code",
   "execution_count": null,
   "id": "82c91383",
   "metadata": {},
   "outputs": [],
   "source": []
  }
 ],
 "metadata": {
  "kernelspec": {
   "display_name": "Python 3",
   "language": "python",
   "name": "python3"
  },
  "language_info": {
   "codemirror_mode": {
    "name": "ipython",
    "version": 3
   },
   "file_extension": ".py",
   "mimetype": "text/x-python",
   "name": "python",
   "nbconvert_exporter": "python",
   "pygments_lexer": "ipython3",
   "version": "3.8.10"
  }
 },
 "nbformat": 4,
 "nbformat_minor": 5
}
